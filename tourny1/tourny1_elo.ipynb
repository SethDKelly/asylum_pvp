{
 "cells": [
  {
   "cell_type": "markdown",
   "metadata": {},
   "source": [
    "## Package Imports, Data Load, and Verification"
   ]
  },
  {
   "cell_type": "code",
   "execution_count": 1,
   "metadata": {},
   "outputs": [
    {
     "name": "stdout",
     "output_type": "stream",
     "text": [
      "pandas version: 1.1.1\n",
      "numpy version: 1.19.1\n"
     ]
    }
   ],
   "source": [
    "import pandas as pd\n",
    "print(\"pandas version:\", pd.__version__)\n",
    "import numpy as np\n",
    "print(\"numpy version:\", np.__version__)"
   ]
  },
  {
   "cell_type": "code",
   "execution_count": 2,
   "metadata": {},
   "outputs": [],
   "source": [
    "initial = pd.read_csv(\"base_stats.csv\",\n",
    "                      dtype = {\"team\":np.int8,\n",
    "                               \"name\":object,\n",
    "                               \"dname\":object,\n",
    "                               \"kd\":np.float32,\n",
    "                               \"kda\":np.float32,\n",
    "                               \"most_killed\":np.float32,\n",
    "                               \"win_perc\":np.float32}\n",
    "                     )"
   ]
  },
  {
   "cell_type": "code",
   "execution_count": 3,
   "metadata": {},
   "outputs": [
    {
     "name": "stdout",
     "output_type": "stream",
     "text": [
      "<class 'pandas.core.frame.DataFrame'>\n",
      "RangeIndex: 24 entries, 0 to 23\n",
      "Data columns (total 7 columns):\n",
      " #   Column       Non-Null Count  Dtype  \n",
      "---  ------       --------------  -----  \n",
      " 0   team         24 non-null     int8   \n",
      " 1   name         24 non-null     object \n",
      " 2   dname        24 non-null     object \n",
      " 3   kd           24 non-null     float32\n",
      " 4   kda          24 non-null     float32\n",
      " 5   most_killed  24 non-null     float32\n",
      " 6   win_perc     24 non-null     float32\n",
      "dtypes: float32(4), int8(1), object(2)\n",
      "memory usage: 920.0+ bytes\n"
     ]
    }
   ],
   "source": [
    "initial.info()"
   ]
  },
  {
   "cell_type": "code",
   "execution_count": 4,
   "metadata": {},
   "outputs": [
    {
     "data": {
      "text/html": [
       "<div>\n",
       "<style scoped>\n",
       "    .dataframe tbody tr th:only-of-type {\n",
       "        vertical-align: middle;\n",
       "    }\n",
       "\n",
       "    .dataframe tbody tr th {\n",
       "        vertical-align: top;\n",
       "    }\n",
       "\n",
       "    .dataframe thead th {\n",
       "        text-align: right;\n",
       "    }\n",
       "</style>\n",
       "<table border=\"1\" class=\"dataframe\">\n",
       "  <thead>\n",
       "    <tr style=\"text-align: right;\">\n",
       "      <th></th>\n",
       "      <th>team</th>\n",
       "      <th>name</th>\n",
       "      <th>dname</th>\n",
       "      <th>kd</th>\n",
       "      <th>kda</th>\n",
       "      <th>most_killed</th>\n",
       "      <th>win_perc</th>\n",
       "    </tr>\n",
       "  </thead>\n",
       "  <tbody>\n",
       "    <tr>\n",
       "      <th>0</th>\n",
       "      <td>1</td>\n",
       "      <td>iron</td>\n",
       "      <td>IRONKNIGHT INC</td>\n",
       "      <td>1.08</td>\n",
       "      <td>1.42</td>\n",
       "      <td>35.0</td>\n",
       "      <td>0.4427</td>\n",
       "    </tr>\n",
       "    <tr>\n",
       "      <th>1</th>\n",
       "      <td>1</td>\n",
       "      <td>mrspikey</td>\n",
       "      <td>AussieCommander</td>\n",
       "      <td>0.83</td>\n",
       "      <td>1.15</td>\n",
       "      <td>29.0</td>\n",
       "      <td>0.5399</td>\n",
       "    </tr>\n",
       "    <tr>\n",
       "      <th>2</th>\n",
       "      <td>1</td>\n",
       "      <td>suffa</td>\n",
       "      <td>SuFFa</td>\n",
       "      <td>0.63</td>\n",
       "      <td>0.93</td>\n",
       "      <td>30.0</td>\n",
       "      <td>0.3934</td>\n",
       "    </tr>\n",
       "    <tr>\n",
       "      <th>3</th>\n",
       "      <td>2</td>\n",
       "      <td>saxonj23</td>\n",
       "      <td>Saxonj23</td>\n",
       "      <td>1.15</td>\n",
       "      <td>1.51</td>\n",
       "      <td>35.0</td>\n",
       "      <td>0.5292</td>\n",
       "    </tr>\n",
       "    <tr>\n",
       "      <th>4</th>\n",
       "      <td>2</td>\n",
       "      <td>dluith</td>\n",
       "      <td>dluith</td>\n",
       "      <td>0.90</td>\n",
       "      <td>1.23</td>\n",
       "      <td>32.0</td>\n",
       "      <td>0.4802</td>\n",
       "    </tr>\n",
       "  </tbody>\n",
       "</table>\n",
       "</div>"
      ],
      "text/plain": [
       "   team      name            dname    kd   kda  most_killed  win_perc\n",
       "0     1      iron   IRONKNIGHT INC  1.08  1.42         35.0    0.4427\n",
       "1     1  mrspikey  AussieCommander  0.83  1.15         29.0    0.5399\n",
       "2     1     suffa            SuFFa  0.63  0.93         30.0    0.3934\n",
       "3     2  saxonj23         Saxonj23  1.15  1.51         35.0    0.5292\n",
       "4     2    dluith           dluith  0.90  1.23         32.0    0.4802"
      ]
     },
     "execution_count": 4,
     "metadata": {},
     "output_type": "execute_result"
    }
   ],
   "source": [
    "initial.head()"
   ]
  },
  {
   "cell_type": "markdown",
   "metadata": {},
   "source": [
    "## Feature Generation and Verification"
   ]
  },
  {
   "cell_type": "code",
   "execution_count": 5,
   "metadata": {},
   "outputs": [],
   "source": [
    "initial['norm_kd'] = initial.kd/initial.kd.max()\n",
    "initial['log_norm_mk'] = np.log(initial.most_killed)/np.log(initial.most_killed.max())\n",
    "initial['assists'] = initial.kda-initial.kd\n",
    "initial['norm_assists'] = initial.assists/initial.assists.max()\n",
    "initial['combined'] = (initial.norm_kd+initial.log_norm_mk+initial.win_perc+initial.norm_assists)/4\n",
    "initial['norm_combined'] = initial.combined/initial.combined.max()"
   ]
  },
  {
   "cell_type": "code",
   "execution_count": 6,
   "metadata": {},
   "outputs": [
    {
     "data": {
      "text/html": [
       "<div>\n",
       "<style scoped>\n",
       "    .dataframe tbody tr th:only-of-type {\n",
       "        vertical-align: middle;\n",
       "    }\n",
       "\n",
       "    .dataframe tbody tr th {\n",
       "        vertical-align: top;\n",
       "    }\n",
       "\n",
       "    .dataframe thead th {\n",
       "        text-align: right;\n",
       "    }\n",
       "</style>\n",
       "<table border=\"1\" class=\"dataframe\">\n",
       "  <thead>\n",
       "    <tr style=\"text-align: right;\">\n",
       "      <th></th>\n",
       "      <th>team</th>\n",
       "      <th>name</th>\n",
       "      <th>dname</th>\n",
       "      <th>kd</th>\n",
       "      <th>kda</th>\n",
       "      <th>most_killed</th>\n",
       "      <th>win_perc</th>\n",
       "      <th>norm_kd</th>\n",
       "      <th>log_norm_mk</th>\n",
       "      <th>assists</th>\n",
       "      <th>norm_assists</th>\n",
       "      <th>combined</th>\n",
       "      <th>norm_combined</th>\n",
       "    </tr>\n",
       "  </thead>\n",
       "  <tbody>\n",
       "    <tr>\n",
       "      <th>0</th>\n",
       "      <td>1</td>\n",
       "      <td>iron</td>\n",
       "      <td>IRONKNIGHT INC</td>\n",
       "      <td>1.08</td>\n",
       "      <td>1.42</td>\n",
       "      <td>35.0</td>\n",
       "      <td>0.4427</td>\n",
       "      <td>0.67500</td>\n",
       "      <td>0.617705</td>\n",
       "      <td>0.34</td>\n",
       "      <td>0.739130</td>\n",
       "      <td>0.618634</td>\n",
       "      <td>0.765427</td>\n",
       "    </tr>\n",
       "    <tr>\n",
       "      <th>1</th>\n",
       "      <td>1</td>\n",
       "      <td>mrspikey</td>\n",
       "      <td>AussieCommander</td>\n",
       "      <td>0.83</td>\n",
       "      <td>1.15</td>\n",
       "      <td>29.0</td>\n",
       "      <td>0.5399</td>\n",
       "      <td>0.51875</td>\n",
       "      <td>0.585032</td>\n",
       "      <td>0.32</td>\n",
       "      <td>0.695652</td>\n",
       "      <td>0.584834</td>\n",
       "      <td>0.723606</td>\n",
       "    </tr>\n",
       "    <tr>\n",
       "      <th>2</th>\n",
       "      <td>1</td>\n",
       "      <td>suffa</td>\n",
       "      <td>SuFFa</td>\n",
       "      <td>0.63</td>\n",
       "      <td>0.93</td>\n",
       "      <td>30.0</td>\n",
       "      <td>0.3934</td>\n",
       "      <td>0.39375</td>\n",
       "      <td>0.590922</td>\n",
       "      <td>0.30</td>\n",
       "      <td>0.652174</td>\n",
       "      <td>0.507562</td>\n",
       "      <td>0.627999</td>\n",
       "    </tr>\n",
       "    <tr>\n",
       "      <th>3</th>\n",
       "      <td>2</td>\n",
       "      <td>saxonj23</td>\n",
       "      <td>Saxonj23</td>\n",
       "      <td>1.15</td>\n",
       "      <td>1.51</td>\n",
       "      <td>35.0</td>\n",
       "      <td>0.5292</td>\n",
       "      <td>0.71875</td>\n",
       "      <td>0.617705</td>\n",
       "      <td>0.36</td>\n",
       "      <td>0.782609</td>\n",
       "      <td>0.662066</td>\n",
       "      <td>0.819165</td>\n",
       "    </tr>\n",
       "    <tr>\n",
       "      <th>4</th>\n",
       "      <td>2</td>\n",
       "      <td>dluith</td>\n",
       "      <td>dluith</td>\n",
       "      <td>0.90</td>\n",
       "      <td>1.23</td>\n",
       "      <td>32.0</td>\n",
       "      <td>0.4802</td>\n",
       "      <td>0.56250</td>\n",
       "      <td>0.602135</td>\n",
       "      <td>0.33</td>\n",
       "      <td>0.717391</td>\n",
       "      <td>0.590557</td>\n",
       "      <td>0.730687</td>\n",
       "    </tr>\n",
       "  </tbody>\n",
       "</table>\n",
       "</div>"
      ],
      "text/plain": [
       "   team      name            dname    kd   kda  most_killed  win_perc  \\\n",
       "0     1      iron   IRONKNIGHT INC  1.08  1.42         35.0    0.4427   \n",
       "1     1  mrspikey  AussieCommander  0.83  1.15         29.0    0.5399   \n",
       "2     1     suffa            SuFFa  0.63  0.93         30.0    0.3934   \n",
       "3     2  saxonj23         Saxonj23  1.15  1.51         35.0    0.5292   \n",
       "4     2    dluith           dluith  0.90  1.23         32.0    0.4802   \n",
       "\n",
       "   norm_kd  log_norm_mk  assists  norm_assists  combined  norm_combined  \n",
       "0  0.67500     0.617705     0.34      0.739130  0.618634       0.765427  \n",
       "1  0.51875     0.585032     0.32      0.695652  0.584834       0.723606  \n",
       "2  0.39375     0.590922     0.30      0.652174  0.507562       0.627999  \n",
       "3  0.71875     0.617705     0.36      0.782609  0.662066       0.819165  \n",
       "4  0.56250     0.602135     0.33      0.717391  0.590557       0.730687  "
      ]
     },
     "execution_count": 6,
     "metadata": {},
     "output_type": "execute_result"
    }
   ],
   "source": [
    "initial.head()"
   ]
  },
  {
   "cell_type": "code",
   "execution_count": 7,
   "metadata": {},
   "outputs": [],
   "source": [
    "\"\"\"\n",
    "Ratings/elo mapping based on normalized combined score averages\n",
    "\n",
    "Based on FIDE https://en.wikipedia.org/wiki/Elo_rating_system#Performance_rating\n",
    "\"\"\"\n",
    "\n",
    "bins = [1.0,.99,.9,.8,.7,.6,.5,.4,.3,.2,.01,0.0,np.NINF]\n",
    "ratings = [800,677,366,240,149,72,0,-72,-142,-240,-366,-677]\n",
    "bins.sort()\n",
    "ratings.sort()\n",
    "initial['elo'] = pd.cut(initial.norm_combined.values,\n",
    "                        bins=bins,\n",
    "                        labels=ratings\n",
    "                  ).astype(int)"
   ]
  },
  {
   "cell_type": "code",
   "execution_count": 8,
   "metadata": {},
   "outputs": [],
   "source": [
    "\"\"\"\n",
    "K Factor for updating ELO \n",
    "* Based on where you fall within the normalized combined ratings\n",
    "* 4 different k-values for within the quantiles\n",
    "* top 25% : 10, 75-50% : 20, 50-25% : 30, 25% below : 40\n",
    "\n",
    "This uses a modified k-value from FIDE https://en.wikipedia.org/wiki/Elo_rating_system#Most_accurate_K-factor\n",
    "\n",
    "The idea is:\n",
    "* 'veteran' players should see less change with wins/loses\n",
    "* 'novice' players should see more change with wins/loses\n",
    "\"\"\"\n",
    "\n",
    "quantiles = initial.norm_combined.quantile([0.0,.25,.5,.55,1.0]).values\n",
    "quantiles[0]=np.NINF\n",
    "k_value = [5,10,15,20]\n",
    "initial['k'] = pd.cut(initial.norm_combined.values,\n",
    "                      bins=quantiles,\n",
    "                      labels=k_value\n",
    "                ).astype(int)"
   ]
  },
  {
   "cell_type": "code",
   "execution_count": 9,
   "metadata": {},
   "outputs": [
    {
     "data": {
      "text/html": [
       "<div>\n",
       "<style scoped>\n",
       "    .dataframe tbody tr th:only-of-type {\n",
       "        vertical-align: middle;\n",
       "    }\n",
       "\n",
       "    .dataframe tbody tr th {\n",
       "        vertical-align: top;\n",
       "    }\n",
       "\n",
       "    .dataframe thead th {\n",
       "        text-align: right;\n",
       "    }\n",
       "</style>\n",
       "<table border=\"1\" class=\"dataframe\">\n",
       "  <thead>\n",
       "    <tr style=\"text-align: right;\">\n",
       "      <th></th>\n",
       "      <th>team</th>\n",
       "      <th>name</th>\n",
       "      <th>dname</th>\n",
       "      <th>kd</th>\n",
       "      <th>kda</th>\n",
       "      <th>most_killed</th>\n",
       "      <th>win_perc</th>\n",
       "      <th>norm_kd</th>\n",
       "      <th>log_norm_mk</th>\n",
       "      <th>assists</th>\n",
       "      <th>norm_assists</th>\n",
       "      <th>combined</th>\n",
       "      <th>norm_combined</th>\n",
       "      <th>elo</th>\n",
       "      <th>k</th>\n",
       "      <th>team_elo</th>\n",
       "    </tr>\n",
       "  </thead>\n",
       "  <tbody>\n",
       "    <tr>\n",
       "      <th>0</th>\n",
       "      <td>1</td>\n",
       "      <td>iron</td>\n",
       "      <td>IRONKNIGHT INC</td>\n",
       "      <td>1.08</td>\n",
       "      <td>1.42</td>\n",
       "      <td>35.00</td>\n",
       "      <td>0.4427</td>\n",
       "      <td>0.67500</td>\n",
       "      <td>0.617705</td>\n",
       "      <td>0.34</td>\n",
       "      <td>0.739130</td>\n",
       "      <td>0.618634</td>\n",
       "      <td>0.765427</td>\n",
       "      <td>240</td>\n",
       "      <td>10</td>\n",
       "      <td>629</td>\n",
       "    </tr>\n",
       "    <tr>\n",
       "      <th>1</th>\n",
       "      <td>1</td>\n",
       "      <td>mrspikey</td>\n",
       "      <td>AussieCommander</td>\n",
       "      <td>0.83</td>\n",
       "      <td>1.15</td>\n",
       "      <td>29.00</td>\n",
       "      <td>0.5399</td>\n",
       "      <td>0.51875</td>\n",
       "      <td>0.585032</td>\n",
       "      <td>0.32</td>\n",
       "      <td>0.695652</td>\n",
       "      <td>0.584834</td>\n",
       "      <td>0.723606</td>\n",
       "      <td>240</td>\n",
       "      <td>10</td>\n",
       "      <td>629</td>\n",
       "    </tr>\n",
       "    <tr>\n",
       "      <th>2</th>\n",
       "      <td>1</td>\n",
       "      <td>suffa</td>\n",
       "      <td>SuFFa</td>\n",
       "      <td>0.63</td>\n",
       "      <td>0.93</td>\n",
       "      <td>30.00</td>\n",
       "      <td>0.3934</td>\n",
       "      <td>0.39375</td>\n",
       "      <td>0.590922</td>\n",
       "      <td>0.30</td>\n",
       "      <td>0.652174</td>\n",
       "      <td>0.507562</td>\n",
       "      <td>0.627999</td>\n",
       "      <td>149</td>\n",
       "      <td>5</td>\n",
       "      <td>629</td>\n",
       "    </tr>\n",
       "    <tr>\n",
       "      <th>3</th>\n",
       "      <td>2</td>\n",
       "      <td>saxonj23</td>\n",
       "      <td>Saxonj23</td>\n",
       "      <td>1.15</td>\n",
       "      <td>1.51</td>\n",
       "      <td>35.00</td>\n",
       "      <td>0.5292</td>\n",
       "      <td>0.71875</td>\n",
       "      <td>0.617705</td>\n",
       "      <td>0.36</td>\n",
       "      <td>0.782609</td>\n",
       "      <td>0.662066</td>\n",
       "      <td>0.819165</td>\n",
       "      <td>366</td>\n",
       "      <td>20</td>\n",
       "      <td>755</td>\n",
       "    </tr>\n",
       "    <tr>\n",
       "      <th>4</th>\n",
       "      <td>2</td>\n",
       "      <td>dluith</td>\n",
       "      <td>dluith</td>\n",
       "      <td>0.90</td>\n",
       "      <td>1.23</td>\n",
       "      <td>32.00</td>\n",
       "      <td>0.4802</td>\n",
       "      <td>0.56250</td>\n",
       "      <td>0.602135</td>\n",
       "      <td>0.33</td>\n",
       "      <td>0.717391</td>\n",
       "      <td>0.590557</td>\n",
       "      <td>0.730687</td>\n",
       "      <td>240</td>\n",
       "      <td>10</td>\n",
       "      <td>755</td>\n",
       "    </tr>\n",
       "    <tr>\n",
       "      <th>5</th>\n",
       "      <td>2</td>\n",
       "      <td>kry lxxvi</td>\n",
       "      <td>Kry LXXXVI</td>\n",
       "      <td>0.63</td>\n",
       "      <td>0.99</td>\n",
       "      <td>21.00</td>\n",
       "      <td>0.4686</td>\n",
       "      <td>0.39375</td>\n",
       "      <td>0.528954</td>\n",
       "      <td>0.36</td>\n",
       "      <td>0.782609</td>\n",
       "      <td>0.543478</td>\n",
       "      <td>0.672438</td>\n",
       "      <td>149</td>\n",
       "      <td>5</td>\n",
       "      <td>755</td>\n",
       "    </tr>\n",
       "    <tr>\n",
       "      <th>6</th>\n",
       "      <td>3</td>\n",
       "      <td>capt_TT</td>\n",
       "      <td>Capt_TT</td>\n",
       "      <td>1.25</td>\n",
       "      <td>1.67</td>\n",
       "      <td>43.00</td>\n",
       "      <td>0.5395</td>\n",
       "      <td>0.78125</td>\n",
       "      <td>0.653469</td>\n",
       "      <td>0.42</td>\n",
       "      <td>0.913043</td>\n",
       "      <td>0.721816</td>\n",
       "      <td>0.893092</td>\n",
       "      <td>366</td>\n",
       "      <td>20</td>\n",
       "      <td>846</td>\n",
       "    </tr>\n",
       "    <tr>\n",
       "      <th>7</th>\n",
       "      <td>3</td>\n",
       "      <td>divi</td>\n",
       "      <td>Divi8882</td>\n",
       "      <td>0.81</td>\n",
       "      <td>1.14</td>\n",
       "      <td>34.00</td>\n",
       "      <td>0.4610</td>\n",
       "      <td>0.50625</td>\n",
       "      <td>0.612668</td>\n",
       "      <td>0.33</td>\n",
       "      <td>0.717391</td>\n",
       "      <td>0.574327</td>\n",
       "      <td>0.710607</td>\n",
       "      <td>240</td>\n",
       "      <td>10</td>\n",
       "      <td>846</td>\n",
       "    </tr>\n",
       "    <tr>\n",
       "      <th>8</th>\n",
       "      <td>3</td>\n",
       "      <td>nephew of jimi</td>\n",
       "      <td>taybon</td>\n",
       "      <td>0.76</td>\n",
       "      <td>1.13</td>\n",
       "      <td>25.00</td>\n",
       "      <td>0.4392</td>\n",
       "      <td>0.47500</td>\n",
       "      <td>0.559246</td>\n",
       "      <td>0.37</td>\n",
       "      <td>0.804348</td>\n",
       "      <td>0.569448</td>\n",
       "      <td>0.704570</td>\n",
       "      <td>240</td>\n",
       "      <td>5</td>\n",
       "      <td>846</td>\n",
       "    </tr>\n",
       "    <tr>\n",
       "      <th>9</th>\n",
       "      <td>4</td>\n",
       "      <td>haydos</td>\n",
       "      <td>Haydos2207</td>\n",
       "      <td>1.23</td>\n",
       "      <td>1.59</td>\n",
       "      <td>42.00</td>\n",
       "      <td>0.5236</td>\n",
       "      <td>0.76875</td>\n",
       "      <td>0.649381</td>\n",
       "      <td>0.36</td>\n",
       "      <td>0.782609</td>\n",
       "      <td>0.681085</td>\n",
       "      <td>0.842697</td>\n",
       "      <td>366</td>\n",
       "      <td>20</td>\n",
       "      <td>755</td>\n",
       "    </tr>\n",
       "    <tr>\n",
       "      <th>10</th>\n",
       "      <td>4</td>\n",
       "      <td>nic</td>\n",
       "      <td>N94F</td>\n",
       "      <td>0.91</td>\n",
       "      <td>1.24</td>\n",
       "      <td>29.00</td>\n",
       "      <td>0.4390</td>\n",
       "      <td>0.56875</td>\n",
       "      <td>0.585032</td>\n",
       "      <td>0.33</td>\n",
       "      <td>0.717391</td>\n",
       "      <td>0.577543</td>\n",
       "      <td>0.714586</td>\n",
       "      <td>240</td>\n",
       "      <td>10</td>\n",
       "      <td>755</td>\n",
       "    </tr>\n",
       "    <tr>\n",
       "      <th>11</th>\n",
       "      <td>4</td>\n",
       "      <td>nate</td>\n",
       "      <td>nateagain</td>\n",
       "      <td>0.74</td>\n",
       "      <td>1.05</td>\n",
       "      <td>29.00</td>\n",
       "      <td>0.4711</td>\n",
       "      <td>0.46250</td>\n",
       "      <td>0.585032</td>\n",
       "      <td>0.31</td>\n",
       "      <td>0.673913</td>\n",
       "      <td>0.548136</td>\n",
       "      <td>0.678201</td>\n",
       "      <td>149</td>\n",
       "      <td>5</td>\n",
       "      <td>755</td>\n",
       "    </tr>\n",
       "    <tr>\n",
       "      <th>12</th>\n",
       "      <td>5</td>\n",
       "      <td>chef traine</td>\n",
       "      <td>Chef Traine</td>\n",
       "      <td>1.39</td>\n",
       "      <td>1.75</td>\n",
       "      <td>42.00</td>\n",
       "      <td>0.5255</td>\n",
       "      <td>0.86875</td>\n",
       "      <td>0.649381</td>\n",
       "      <td>0.36</td>\n",
       "      <td>0.782609</td>\n",
       "      <td>0.706560</td>\n",
       "      <td>0.874217</td>\n",
       "      <td>366</td>\n",
       "      <td>20</td>\n",
       "      <td>846</td>\n",
       "    </tr>\n",
       "    <tr>\n",
       "      <th>13</th>\n",
       "      <td>5</td>\n",
       "      <td>will</td>\n",
       "      <td>Cactxs</td>\n",
       "      <td>0.75</td>\n",
       "      <td>1.17</td>\n",
       "      <td>54.18</td>\n",
       "      <td>0.5090</td>\n",
       "      <td>0.46875</td>\n",
       "      <td>0.693622</td>\n",
       "      <td>0.42</td>\n",
       "      <td>0.913043</td>\n",
       "      <td>0.646104</td>\n",
       "      <td>0.799415</td>\n",
       "      <td>240</td>\n",
       "      <td>20</td>\n",
       "      <td>846</td>\n",
       "    </tr>\n",
       "    <tr>\n",
       "      <th>14</th>\n",
       "      <td>5</td>\n",
       "      <td>shadow fang</td>\n",
       "      <td>Shadow_Fang_1993</td>\n",
       "      <td>0.77</td>\n",
       "      <td>1.03</td>\n",
       "      <td>316.00</td>\n",
       "      <td>0.4730</td>\n",
       "      <td>0.48125</td>\n",
       "      <td>1.000000</td>\n",
       "      <td>0.26</td>\n",
       "      <td>0.565217</td>\n",
       "      <td>0.629867</td>\n",
       "      <td>0.779325</td>\n",
       "      <td>240</td>\n",
       "      <td>15</td>\n",
       "      <td>846</td>\n",
       "    </tr>\n",
       "    <tr>\n",
       "      <th>15</th>\n",
       "      <td>6</td>\n",
       "      <td>niyonnet</td>\n",
       "      <td>niyo_net</td>\n",
       "      <td>1.55</td>\n",
       "      <td>2.01</td>\n",
       "      <td>47.00</td>\n",
       "      <td>0.5308</td>\n",
       "      <td>0.96875</td>\n",
       "      <td>0.668923</td>\n",
       "      <td>0.46</td>\n",
       "      <td>1.000000</td>\n",
       "      <td>0.792118</td>\n",
       "      <td>0.980077</td>\n",
       "      <td>677</td>\n",
       "      <td>20</td>\n",
       "      <td>1192</td>\n",
       "    </tr>\n",
       "    <tr>\n",
       "      <th>16</th>\n",
       "      <td>6</td>\n",
       "      <td>mmerro</td>\n",
       "      <td>merro84</td>\n",
       "      <td>0.98</td>\n",
       "      <td>1.27</td>\n",
       "      <td>18.00</td>\n",
       "      <td>0.4800</td>\n",
       "      <td>0.61250</td>\n",
       "      <td>0.502172</td>\n",
       "      <td>0.29</td>\n",
       "      <td>0.630435</td>\n",
       "      <td>0.556277</td>\n",
       "      <td>0.688273</td>\n",
       "      <td>149</td>\n",
       "      <td>5</td>\n",
       "      <td>1192</td>\n",
       "    </tr>\n",
       "    <tr>\n",
       "      <th>17</th>\n",
       "      <td>6</td>\n",
       "      <td>faded</td>\n",
       "      <td>FadedFaux</td>\n",
       "      <td>1.25</td>\n",
       "      <td>1.67</td>\n",
       "      <td>32.00</td>\n",
       "      <td>0.4690</td>\n",
       "      <td>0.78125</td>\n",
       "      <td>0.602135</td>\n",
       "      <td>0.42</td>\n",
       "      <td>0.913043</td>\n",
       "      <td>0.691357</td>\n",
       "      <td>0.855406</td>\n",
       "      <td>366</td>\n",
       "      <td>20</td>\n",
       "      <td>1192</td>\n",
       "    </tr>\n",
       "    <tr>\n",
       "      <th>18</th>\n",
       "      <td>7</td>\n",
       "      <td>hammy</td>\n",
       "      <td>Hammy-56</td>\n",
       "      <td>1.41</td>\n",
       "      <td>1.81</td>\n",
       "      <td>49.00</td>\n",
       "      <td>0.6003</td>\n",
       "      <td>0.88125</td>\n",
       "      <td>0.676163</td>\n",
       "      <td>0.40</td>\n",
       "      <td>0.869565</td>\n",
       "      <td>0.756820</td>\n",
       "      <td>0.936402</td>\n",
       "      <td>677</td>\n",
       "      <td>20</td>\n",
       "      <td>1157</td>\n",
       "    </tr>\n",
       "    <tr>\n",
       "      <th>19</th>\n",
       "      <td>7</td>\n",
       "      <td>puscifer</td>\n",
       "      <td>Puscifer85</td>\n",
       "      <td>0.83</td>\n",
       "      <td>1.22</td>\n",
       "      <td>29.00</td>\n",
       "      <td>0.4705</td>\n",
       "      <td>0.51875</td>\n",
       "      <td>0.585032</td>\n",
       "      <td>0.39</td>\n",
       "      <td>0.847826</td>\n",
       "      <td>0.605527</td>\n",
       "      <td>0.749210</td>\n",
       "      <td>240</td>\n",
       "      <td>10</td>\n",
       "      <td>1157</td>\n",
       "    </tr>\n",
       "    <tr>\n",
       "      <th>20</th>\n",
       "      <td>7</td>\n",
       "      <td>sbt</td>\n",
       "      <td>StayBloodThrsty</td>\n",
       "      <td>0.78</td>\n",
       "      <td>1.12</td>\n",
       "      <td>119.00</td>\n",
       "      <td>0.4707</td>\n",
       "      <td>0.48750</td>\n",
       "      <td>0.830323</td>\n",
       "      <td>0.34</td>\n",
       "      <td>0.739130</td>\n",
       "      <td>0.631913</td>\n",
       "      <td>0.781857</td>\n",
       "      <td>240</td>\n",
       "      <td>20</td>\n",
       "      <td>1157</td>\n",
       "    </tr>\n",
       "    <tr>\n",
       "      <th>21</th>\n",
       "      <td>8</td>\n",
       "      <td>floor</td>\n",
       "      <td>Tata and farewell!</td>\n",
       "      <td>1.60</td>\n",
       "      <td>2.05</td>\n",
       "      <td>54.18</td>\n",
       "      <td>0.5610</td>\n",
       "      <td>1.00000</td>\n",
       "      <td>0.693622</td>\n",
       "      <td>0.45</td>\n",
       "      <td>0.978261</td>\n",
       "      <td>0.808221</td>\n",
       "      <td>1.000000</td>\n",
       "      <td>800</td>\n",
       "      <td>20</td>\n",
       "      <td>1315</td>\n",
       "    </tr>\n",
       "    <tr>\n",
       "      <th>22</th>\n",
       "      <td>8</td>\n",
       "      <td>cube</td>\n",
       "      <td>Cube9215</td>\n",
       "      <td>1.03</td>\n",
       "      <td>1.40</td>\n",
       "      <td>134.00</td>\n",
       "      <td>0.4793</td>\n",
       "      <td>0.64375</td>\n",
       "      <td>0.850949</td>\n",
       "      <td>0.37</td>\n",
       "      <td>0.804348</td>\n",
       "      <td>0.694587</td>\n",
       "      <td>0.859402</td>\n",
       "      <td>366</td>\n",
       "      <td>20</td>\n",
       "      <td>1315</td>\n",
       "    </tr>\n",
       "    <tr>\n",
       "      <th>23</th>\n",
       "      <td>8</td>\n",
       "      <td>olli</td>\n",
       "      <td>ollioxenhomefree</td>\n",
       "      <td>0.69</td>\n",
       "      <td>1.01</td>\n",
       "      <td>22.00</td>\n",
       "      <td>0.4707</td>\n",
       "      <td>0.43125</td>\n",
       "      <td>0.537036</td>\n",
       "      <td>0.32</td>\n",
       "      <td>0.695652</td>\n",
       "      <td>0.533660</td>\n",
       "      <td>0.660289</td>\n",
       "      <td>149</td>\n",
       "      <td>5</td>\n",
       "      <td>1315</td>\n",
       "    </tr>\n",
       "  </tbody>\n",
       "</table>\n",
       "</div>"
      ],
      "text/plain": [
       "    team            name               dname    kd   kda  most_killed  \\\n",
       "0      1            iron      IRONKNIGHT INC  1.08  1.42        35.00   \n",
       "1      1        mrspikey     AussieCommander  0.83  1.15        29.00   \n",
       "2      1           suffa               SuFFa  0.63  0.93        30.00   \n",
       "3      2        saxonj23            Saxonj23  1.15  1.51        35.00   \n",
       "4      2          dluith              dluith  0.90  1.23        32.00   \n",
       "5      2       kry lxxvi          Kry LXXXVI  0.63  0.99        21.00   \n",
       "6      3         capt_TT             Capt_TT  1.25  1.67        43.00   \n",
       "7      3            divi            Divi8882  0.81  1.14        34.00   \n",
       "8      3  nephew of jimi              taybon  0.76  1.13        25.00   \n",
       "9      4          haydos          Haydos2207  1.23  1.59        42.00   \n",
       "10     4             nic                N94F  0.91  1.24        29.00   \n",
       "11     4            nate           nateagain  0.74  1.05        29.00   \n",
       "12     5     chef traine         Chef Traine  1.39  1.75        42.00   \n",
       "13     5            will              Cactxs  0.75  1.17        54.18   \n",
       "14     5     shadow fang    Shadow_Fang_1993  0.77  1.03       316.00   \n",
       "15     6        niyonnet            niyo_net  1.55  2.01        47.00   \n",
       "16     6          mmerro             merro84  0.98  1.27        18.00   \n",
       "17     6           faded           FadedFaux  1.25  1.67        32.00   \n",
       "18     7           hammy            Hammy-56  1.41  1.81        49.00   \n",
       "19     7        puscifer          Puscifer85  0.83  1.22        29.00   \n",
       "20     7             sbt     StayBloodThrsty  0.78  1.12       119.00   \n",
       "21     8           floor  Tata and farewell!  1.60  2.05        54.18   \n",
       "22     8            cube            Cube9215  1.03  1.40       134.00   \n",
       "23     8            olli    ollioxenhomefree  0.69  1.01        22.00   \n",
       "\n",
       "    win_perc  norm_kd  log_norm_mk  assists  norm_assists  combined  \\\n",
       "0     0.4427  0.67500     0.617705     0.34      0.739130  0.618634   \n",
       "1     0.5399  0.51875     0.585032     0.32      0.695652  0.584834   \n",
       "2     0.3934  0.39375     0.590922     0.30      0.652174  0.507562   \n",
       "3     0.5292  0.71875     0.617705     0.36      0.782609  0.662066   \n",
       "4     0.4802  0.56250     0.602135     0.33      0.717391  0.590557   \n",
       "5     0.4686  0.39375     0.528954     0.36      0.782609  0.543478   \n",
       "6     0.5395  0.78125     0.653469     0.42      0.913043  0.721816   \n",
       "7     0.4610  0.50625     0.612668     0.33      0.717391  0.574327   \n",
       "8     0.4392  0.47500     0.559246     0.37      0.804348  0.569448   \n",
       "9     0.5236  0.76875     0.649381     0.36      0.782609  0.681085   \n",
       "10    0.4390  0.56875     0.585032     0.33      0.717391  0.577543   \n",
       "11    0.4711  0.46250     0.585032     0.31      0.673913  0.548136   \n",
       "12    0.5255  0.86875     0.649381     0.36      0.782609  0.706560   \n",
       "13    0.5090  0.46875     0.693622     0.42      0.913043  0.646104   \n",
       "14    0.4730  0.48125     1.000000     0.26      0.565217  0.629867   \n",
       "15    0.5308  0.96875     0.668923     0.46      1.000000  0.792118   \n",
       "16    0.4800  0.61250     0.502172     0.29      0.630435  0.556277   \n",
       "17    0.4690  0.78125     0.602135     0.42      0.913043  0.691357   \n",
       "18    0.6003  0.88125     0.676163     0.40      0.869565  0.756820   \n",
       "19    0.4705  0.51875     0.585032     0.39      0.847826  0.605527   \n",
       "20    0.4707  0.48750     0.830323     0.34      0.739130  0.631913   \n",
       "21    0.5610  1.00000     0.693622     0.45      0.978261  0.808221   \n",
       "22    0.4793  0.64375     0.850949     0.37      0.804348  0.694587   \n",
       "23    0.4707  0.43125     0.537036     0.32      0.695652  0.533660   \n",
       "\n",
       "    norm_combined  elo   k  team_elo  \n",
       "0        0.765427  240  10       629  \n",
       "1        0.723606  240  10       629  \n",
       "2        0.627999  149   5       629  \n",
       "3        0.819165  366  20       755  \n",
       "4        0.730687  240  10       755  \n",
       "5        0.672438  149   5       755  \n",
       "6        0.893092  366  20       846  \n",
       "7        0.710607  240  10       846  \n",
       "8        0.704570  240   5       846  \n",
       "9        0.842697  366  20       755  \n",
       "10       0.714586  240  10       755  \n",
       "11       0.678201  149   5       755  \n",
       "12       0.874217  366  20       846  \n",
       "13       0.799415  240  20       846  \n",
       "14       0.779325  240  15       846  \n",
       "15       0.980077  677  20      1192  \n",
       "16       0.688273  149   5      1192  \n",
       "17       0.855406  366  20      1192  \n",
       "18       0.936402  677  20      1157  \n",
       "19       0.749210  240  10      1157  \n",
       "20       0.781857  240  20      1157  \n",
       "21       1.000000  800  20      1315  \n",
       "22       0.859402  366  20      1315  \n",
       "23       0.660289  149   5      1315  "
      ]
     },
     "execution_count": 9,
     "metadata": {},
     "output_type": "execute_result"
    }
   ],
   "source": [
    "\"\"\"\n",
    "Add the team elo calculation back into the initial data set and view\n",
    "\"\"\"\n",
    "df = (initial.merge(initial.groupby('team')\n",
    "                           .agg({\"elo\":'sum'})\n",
    "                           .reset_index()\n",
    "                           .rename({'elo':'team_elo'},\n",
    "                                   axis=1),\n",
    "                    on='team', \n",
    "                    how='left'))\n",
    "df.head(24)"
   ]
  },
  {
   "cell_type": "markdown",
   "metadata": {},
   "source": [
    "### Write to .csv for full stats"
   ]
  },
  {
   "cell_type": "code",
   "execution_count": 10,
   "metadata": {},
   "outputs": [],
   "source": [
    "df.to_csv(\"full_stats.csv\",index=False)"
   ]
  },
  {
   "cell_type": "code",
   "execution_count": 11,
   "metadata": {},
   "outputs": [],
   "source": [
    "def team_elo_update(df:pd.DataFrame):\n",
    "    \"\"\"\n",
    "    Summary\n",
    "    -------\n",
    "    Takes a pandas DataFrame then \n",
    "    groups the DataFrame by team and\n",
    "    aggregates elo using sum\n",
    "    \n",
    "    Parameters\n",
    "    ----------\n",
    "    df : pandas DataFrame containing columns [team, elo]\n",
    "    \n",
    "    Returns\n",
    "    -------\n",
    "    A new pandas DataFrame with columns [team, team_elo]\n",
    "    \"\"\"\n",
    "    return (df.groupby('team')\n",
    "              .agg({\"elo\":'sum'})\n",
    "              .reset_index()\n",
    "              .rename({'elo':'team_elo'},\n",
    "                      axis=1))"
   ]
  },
  {
   "cell_type": "code",
   "execution_count": 12,
   "metadata": {},
   "outputs": [
    {
     "data": {
      "text/html": [
       "<div>\n",
       "<style scoped>\n",
       "    .dataframe tbody tr th:only-of-type {\n",
       "        vertical-align: middle;\n",
       "    }\n",
       "\n",
       "    .dataframe tbody tr th {\n",
       "        vertical-align: top;\n",
       "    }\n",
       "\n",
       "    .dataframe thead th {\n",
       "        text-align: right;\n",
       "    }\n",
       "</style>\n",
       "<table border=\"1\" class=\"dataframe\">\n",
       "  <thead>\n",
       "    <tr style=\"text-align: right;\">\n",
       "      <th></th>\n",
       "      <th>team</th>\n",
       "      <th>team_elo</th>\n",
       "    </tr>\n",
       "  </thead>\n",
       "  <tbody>\n",
       "    <tr>\n",
       "      <th>0</th>\n",
       "      <td>1</td>\n",
       "      <td>629</td>\n",
       "    </tr>\n",
       "    <tr>\n",
       "      <th>1</th>\n",
       "      <td>2</td>\n",
       "      <td>755</td>\n",
       "    </tr>\n",
       "    <tr>\n",
       "      <th>2</th>\n",
       "      <td>3</td>\n",
       "      <td>846</td>\n",
       "    </tr>\n",
       "    <tr>\n",
       "      <th>3</th>\n",
       "      <td>4</td>\n",
       "      <td>755</td>\n",
       "    </tr>\n",
       "    <tr>\n",
       "      <th>4</th>\n",
       "      <td>5</td>\n",
       "      <td>846</td>\n",
       "    </tr>\n",
       "  </tbody>\n",
       "</table>\n",
       "</div>"
      ],
      "text/plain": [
       "   team  team_elo\n",
       "0     1       629\n",
       "1     2       755\n",
       "2     3       846\n",
       "3     4       755\n",
       "4     5       846"
      ]
     },
     "execution_count": 12,
     "metadata": {},
     "output_type": "execute_result"
    }
   ],
   "source": [
    "team_elo = team_elo_update(df)\n",
    "team_elo.head()"
   ]
  },
  {
   "cell_type": "markdown",
   "metadata": {},
   "source": [
    "This will eventually display the probability function used below\n",
    "\n",
    "*Place Holder Cell and Personal Reminder* "
   ]
  },
  {
   "cell_type": "code",
   "execution_count": 13,
   "metadata": {},
   "outputs": [],
   "source": [
    "def prob(teamA:int, teamB:int) -> tuple:\n",
    "    \"\"\"\n",
    "    Takes two team numbers and calculates the probabilities for each team winning.\n",
    "    teamA is the 'home team' per match schedule\n",
    "    teamB is the 'away team' per match schedule\n",
    "    * Schedule provided within discord\n",
    "    \n",
    "    Parameters\n",
    "    ----------\n",
    "    teamA : integer\n",
    "        The team number found within 'team' column\n",
    "    \n",
    "    teamB : integer\n",
    "        The team number found within 'team' column\n",
    "        \n",
    "    Returns\n",
    "    -------\n",
    "    Tuple containing the results of each teams probability result.\n",
    "    \"\"\"\n",
    "    ea = (1/(1+10**(\n",
    "        (team_elo[team_elo.team==teamB].team_elo.values[0] -\n",
    "         team_elo[team_elo.team==teamA].team_elo.values[0])/400))\n",
    "         ).round(3)\n",
    "    eb = (1/(1+10**(\n",
    "        (team_elo[team_elo.team==teamA].team_elo.values[0] -\n",
    "         team_elo[team_elo.team==teamB].team_elo.values[0])/400))\n",
    "         ).round(3)\n",
    "    return(ea,eb)"
   ]
  },
  {
   "cell_type": "code",
   "execution_count": 14,
   "metadata": {},
   "outputs": [],
   "source": [
    "def prob_print(teamA:int, teamB:int):\n",
    "    \"\"\"\n",
    "    Summary\n",
    "    -------\n",
    "    Takes two team numbers and calculates the probabilities for each team winning.\n",
    "    teamA is the 'home team' per match schedule\n",
    "    teamB is the 'away team' per match schedule\n",
    "    * Schedule provided within discord\n",
    "    \n",
    "    Parameters\n",
    "    ----------\n",
    "        teamA : integer\n",
    "        The team number found within 'team' column\n",
    "    \n",
    "    teamB : integer\n",
    "        The team number found within 'team' column\n",
    "     \n",
    "    Returns\n",
    "    -------\n",
    "    Prints the teams probabilities.\n",
    "    \"\"\"\n",
    "    ea = (1/(1+10**(\n",
    "        (team_elo[team_elo.team==teamB].team_elo.values[0] -\n",
    "         team_elo[team_elo.team==teamA].team_elo.values[0])/400))\n",
    "         ).round(3)\n",
    "    eb = (1/(1+10**(\n",
    "        (team_elo[team_elo.team==teamA].team_elo.values[0] -\n",
    "         team_elo[team_elo.team==teamB].team_elo.values[0])/400))\n",
    "         ).round(3)\n",
    "    print(\"Team\",teamA,\"has a:\",ea,\"% chance and Team\",teamB,\"has a:\",eb,\"% chance of winning\")"
   ]
  },
  {
   "cell_type": "markdown",
   "metadata": {},
   "source": [
    "## Round 1-7 Initial\n",
    "### This is done for all 7 initial rounds to show what the probabilities would be without any update to elo\n",
    "### Subsequent updates for each round will include a reference to these to show the changes"
   ]
  },
  {
   "cell_type": "code",
   "execution_count": 15,
   "metadata": {},
   "outputs": [
    {
     "name": "stdout",
     "output_type": "stream",
     "text": [
      "Round 1\n",
      "Team 7 has a: 0.857 % chance and Team 5 has a: 0.143 % chance of winning\n",
      "Team 4 has a: 0.5 % chance and Team 2 has a: 0.5 % chance of winning\n",
      "Team 1 has a: 0.223 % chance and Team 3 has a: 0.777 % chance of winning\n",
      "Team 8 has a: 0.67 % chance and Team 6 has a: 0.33 % chance of winning\n"
     ]
    }
   ],
   "source": [
    "print(\"Round 1\")\n",
    "# Team 7 v Team 5\n",
    "prob_print(7,5)\n",
    "# Team 4 v Team 2\n",
    "prob_print(4,2)\n",
    "# Team 1 v Team 3\n",
    "prob_print(1,3)\n",
    "# Team 8 v Team 6\n",
    "prob_print(8,6)"
   ]
  },
  {
   "cell_type": "code",
   "execution_count": 16,
   "metadata": {},
   "outputs": [
    {
     "name": "stdout",
     "output_type": "stream",
     "text": [
      "Round 2\n",
      "Team 3 has a: 0.628 % chance and Team 4 has a: 0.372 % chance of winning\n",
      "Team 2 has a: 0.038 % chance and Team 8 has a: 0.962 % chance of winning\n",
      "Team 5 has a: 0.143 % chance and Team 7 has a: 0.857 % chance of winning\n",
      "Team 6 has a: 0.55 % chance and Team 7 has a: 0.45 % chance of winning\n"
     ]
    }
   ],
   "source": [
    "print(\"Round 2\")\n",
    "# Team 3 v Team 4\n",
    "prob_print(3,4)\n",
    "# Team 2 v Team 8\n",
    "prob_print(2,8)\n",
    "# Team 5 v Team 1\n",
    "prob_print(5,7)\n",
    "# Team 6 v Team 7\n",
    "prob_print(6,7)"
   ]
  },
  {
   "cell_type": "code",
   "execution_count": 17,
   "metadata": {},
   "outputs": [
    {
     "name": "stdout",
     "output_type": "stream",
     "text": [
      "Round 3\n",
      "Team 4 has a: 0.372 % chance and Team 5 has a: 0.628 % chance of winning\n",
      "Team 1 has a: 0.038 % chance and Team 6 has a: 0.962 % chance of winning\n",
      "Team 8 has a: 0.713 % chance and Team 7 has a: 0.287 % chance of winning\n",
      "Team 2 has a: 0.372 % chance and Team 3 has a: 0.628 % chance of winning\n"
     ]
    }
   ],
   "source": [
    "print(\"Round 3\")\n",
    "# Team 4 v Team 5\n",
    "prob_print(4,5)\n",
    "# Team 1 v Team 6\n",
    "prob_print(1,6)\n",
    "# Team 8 v Team 7\n",
    "prob_print(8,7)\n",
    "# Team 2 v Team 3\n",
    "prob_print(2,3)"
   ]
  },
  {
   "cell_type": "code",
   "execution_count": 18,
   "metadata": {},
   "outputs": [
    {
     "name": "stdout",
     "output_type": "stream",
     "text": [
      "Round 4\n",
      "Team 7 has a: 0.954 % chance and Team 1 has a: 0.046 % chance of winning\n",
      "Team 5 has a: 0.628 % chance and Team 2 has a: 0.372 % chance of winning\n",
      "Team 6 has a: 0.925 % chance and Team 4 has a: 0.075 % chance of winning\n",
      "Team 3 has a: 0.063 % chance and Team 8 has a: 0.937 % chance of winning\n"
     ]
    }
   ],
   "source": [
    "print(\"Round 4\")\n",
    "# Team 7 v Team 1\n",
    "prob_print(7,1)\n",
    "# Team 5 v Team 2\n",
    "prob_print(5,2)\n",
    "# Team 6 v Team 4\n",
    "prob_print(6,4)\n",
    "# Team 3 v Team 8\n",
    "prob_print(3,8)"
   ]
  },
  {
   "cell_type": "code",
   "execution_count": 19,
   "metadata": {},
   "outputs": [
    {
     "name": "stdout",
     "output_type": "stream",
     "text": [
      "Round 5\n",
      "Team 3 has a: 0.5 % chance and Team 5 has a: 0.5 % chance of winning\n",
      "Team 4 has a: 0.09 % chance and Team 7 has a: 0.91 % chance of winning\n",
      "Team 2 has a: 0.075 % chance and Team 6 has a: 0.925 % chance of winning\n",
      "Team 8 has a: 0.981 % chance and Team 1 has a: 0.019 % chance of winning\n"
     ]
    }
   ],
   "source": [
    "print(\"Round 5\")\n",
    "# Team 3 v Team 5\n",
    "prob_print(3,5)\n",
    "# Team 4 v Team 7\n",
    "prob_print(4,7)\n",
    "# Team 2 v Team 6\n",
    "prob_print(2,6)\n",
    "# Team 8 v Team 1\n",
    "prob_print(8,1)"
   ]
  },
  {
   "cell_type": "code",
   "execution_count": 20,
   "metadata": {},
   "outputs": [
    {
     "name": "stdout",
     "output_type": "stream",
     "text": [
      "Round 6\n",
      "Team 7 has a: 0.91 % chance and Team 2 has a: 0.09 % chance of winning\n",
      "Team 6 has a: 0.88 % chance and Team 3 has a: 0.12 % chance of winning\n",
      "Team 5 has a: 0.063 % chance and Team 8 has a: 0.937 % chance of winning\n",
      "Team 1 has a: 0.326 % chance and Team 4 has a: 0.674 % chance of winning\n"
     ]
    }
   ],
   "source": [
    "print(\"Round 6\")\n",
    "# Team 7 v Team 2\n",
    "prob_print(7,2)\n",
    "# Team 6 v Team 3\n",
    "prob_print(6,3)\n",
    "# Team 5 v Team 8\n",
    "prob_print(5,8)\n",
    "# Team 1 v Team 4\n",
    "prob_print(1,4)"
   ]
  },
  {
   "cell_type": "code",
   "execution_count": 21,
   "metadata": {},
   "outputs": [
    {
     "name": "stdout",
     "output_type": "stream",
     "text": [
      "Round 7\n",
      "Team 2 has a: 0.674 % chance and Team 1 has a: 0.326 % chance of winning\n",
      "Team 8 has a: 0.962 % chance and Team 4 has a: 0.038 % chance of winning\n",
      "Team 3 has a: 0.143 % chance and Team 7 has a: 0.857 % chance of winning\n",
      "Team 5 has a: 0.12 % chance and Team 6 has a: 0.88 % chance of winning\n"
     ]
    }
   ],
   "source": [
    "print(\"Round 7\")\n",
    "# Team 2 v Team 1\n",
    "prob_print(2,1)\n",
    "# Team 8 v Team 4\n",
    "prob_print(8,4)\n",
    "# Team 3 v Team 7\n",
    "prob_print(3,7)\n",
    "# Team 5 v Team 6\n",
    "prob_print(5,6)"
   ]
  },
  {
   "cell_type": "code",
   "execution_count": 22,
   "metadata": {},
   "outputs": [],
   "source": [
    "def elo_update(df:pd.DataFrame,teamA:int,teamB:int,result:int) -> pd.DataFrame:\n",
    "    \"\"\"\n",
    "    Summary\n",
    "    -------\n",
    "    Takes a team number as a winner and provides the new elo scores\n",
    "    for the winning and losing team.\n",
    "    \n",
    "    Parameters\n",
    "    ----------\n",
    "    df : pandas DataFrame\n",
    "     The dataset containing the full set of stats\n",
    "     \n",
    "    teamA : integer\n",
    "        The team number found within 'team' column\n",
    "    \n",
    "    teamB : integer\n",
    "        The team number found within 'team' column\n",
    "        \n",
    "    result : integer\n",
    "        The team number found within 'team' column that won the match\n",
    "    \n",
    "    Returns\n",
    "    -------\n",
    "    A pandas DataFrame with updated elo and team elo calculations\n",
    "    \"\"\"\n",
    "    df.drop(['team_elo'], axis=1, inplace=True) # Remove the old team elo\n",
    "    ea,eb = prob(teamA,teamB)\n",
    "    if teamA == result:\n",
    "        for member in df[df.team==teamA].index:\n",
    "            df.iloc[member,13]=df.iloc[member,13]+df.iloc[member,14]*(1-ea)\n",
    "        for member in df[df.team==teamB].index:\n",
    "            df.iloc[member,13]=df.iloc[member,13]+df.iloc[member,14]*(0-eb)\n",
    "    else:\n",
    "        for member in df[df.team==teamA].index:\n",
    "            df.iloc[member,13]=df.iloc[member,13]+df.iloc[member,14]*(0-ea)\n",
    "        for member in df[df.team==teamB].index:\n",
    "            df.iloc[member,13]=df.iloc[member,13]+df.iloc[member,14]*(1-eb)\n",
    "    return (df.merge(df.groupby('team')\n",
    "                       .agg({\"elo\":'sum'})\n",
    "                       .reset_index()\n",
    "                       .rename({'elo':'team_elo'},\n",
    "                               axis=1),\n",
    "                     on='team', \n",
    "                     how='left'))"
   ]
  },
  {
   "cell_type": "markdown",
   "metadata": {},
   "source": [
    "## Round 1 Initial"
   ]
  },
  {
   "cell_type": "code",
   "execution_count": 38,
   "metadata": {},
   "outputs": [
    {
     "name": "stdout",
     "output_type": "stream",
     "text": [
      "Round 1\n",
      "Team 7 has a: 0.904 % chance and Team 5 has a: 0.096 % chance of winning\n",
      "Team 4 has a: 0.594 % chance and Team 2 has a: 0.406 % chance of winning\n",
      "Team 1 has a: 0.276 % chance and Team 3 has a: 0.724 % chance of winning\n",
      "Team 8 has a: 0.745 % chance and Team 6 has a: 0.255 % chance of winning\n"
     ]
    }
   ],
   "source": [
    "print(\"Round 1\")\n",
    "# Team 7 v Team 5\n",
    "prob_print(7,5)\n",
    "# Team 4 v Team 2\n",
    "prob_print(4,2)\n",
    "# Team 1 v Team 3\n",
    "prob_print(1,3)\n",
    "# Team 8 v Team 6\n",
    "prob_print(8,6)"
   ]
  },
  {
   "cell_type": "markdown",
   "metadata": {},
   "source": [
    "## Round 1 Results"
   ]
  },
  {
   "cell_type": "code",
   "execution_count": 23,
   "metadata": {},
   "outputs": [],
   "source": [
    "# Round 2 ELO update from round 1 results\n",
    "round2 = df.copy()\n",
    "round2 = elo_update(round2,7,5,7) # 'right'\n",
    "round2 = elo_update(round2,4,2,4) # 'right'\n",
    "round2 = elo_update(round2,1,3,3) # 'right'\n",
    "round2 = elo_update(round2,8,6,8) # 'right'"
   ]
  },
  {
   "cell_type": "markdown",
   "metadata": {},
   "source": [
    "## Round 2 Updated"
   ]
  },
  {
   "cell_type": "markdown",
   "metadata": {},
   "source": [
    "### Initial Probabilities"
   ]
  },
  {
   "cell_type": "code",
   "execution_count": 24,
   "metadata": {},
   "outputs": [
    {
     "name": "stdout",
     "output_type": "stream",
     "text": [
      "Round 2\n",
      "Team 3 has a: 0.628 % chance and Team 4 has a: 0.372 % chance of winning\n",
      "Team 2 has a: 0.038 % chance and Team 8 has a: 0.962 % chance of winning\n",
      "Team 5 has a: 0.777 % chance and Team 1 has a: 0.223 % chance of winning\n",
      "Team 6 has a: 0.55 % chance and Team 7 has a: 0.45 % chance of winning\n"
     ]
    }
   ],
   "source": [
    "team_elo = team_elo_update(initial)\n",
    "print(\"Round 2\")\n",
    "# Team 3 v Team 4\n",
    "prob_print(3,4)\n",
    "# Team 2 v Team 8\n",
    "prob_print(2,8)\n",
    "# Team 2 v Team 6\n",
    "prob_print(5,1)\n",
    "# Team 8 v Team 1\n",
    "prob_print(6,7)"
   ]
  },
  {
   "cell_type": "markdown",
   "metadata": {},
   "source": [
    "### Post Round 1 Match Results Probabilities"
   ]
  },
  {
   "cell_type": "code",
   "execution_count": 25,
   "metadata": {},
   "outputs": [
    {
     "name": "stdout",
     "output_type": "stream",
     "text": [
      "Round 2\n",
      "Team 3 has a: 0.615 % chance and Team 4 has a: 0.385 % chance of winning\n",
      "Team 2 has a: 0.032 % chance and Team 8 has a: 0.968 % chance of winning\n",
      "Team 5 has a: 0.775 % chance and Team 1 has a: 0.225 % chance of winning\n",
      "Team 6 has a: 0.519 % chance and Team 7 has a: 0.481 % chance of winning\n"
     ]
    }
   ],
   "source": [
    "team_elo = team_elo_update(round2)\n",
    "print(\"Round 2\")\n",
    "# Team 3 v Team 4\n",
    "prob_print(3,4)\n",
    "# Team 2 v Team 8\n",
    "prob_print(2,8)\n",
    "# Team 2 v Team 6\n",
    "prob_print(5,1)\n",
    "# Team 8 v Team 1\n",
    "prob_print(6,7)"
   ]
  },
  {
   "cell_type": "markdown",
   "metadata": {},
   "source": [
    "## Round 2 Results"
   ]
  },
  {
   "cell_type": "code",
   "execution_count": 26,
   "metadata": {},
   "outputs": [],
   "source": [
    "# Round 3 ELO update from round 2 results\n",
    "round3 = round2.copy()\n",
    "round3 = elo_update(round3,3,4,4) # 'wrong'/'upset'\n",
    "round3 = elo_update(round3,2,8,8) # 'right'\n",
    "round3 = elo_update(round3,5,1,5) # 'right'\n",
    "round3 = elo_update(round3,6,7,7) # 'wrong'"
   ]
  },
  {
   "cell_type": "markdown",
   "metadata": {},
   "source": [
    "## Round 3 Probabilities"
   ]
  },
  {
   "cell_type": "markdown",
   "metadata": {},
   "source": [
    "### Initial Probabilities"
   ]
  },
  {
   "cell_type": "code",
   "execution_count": 27,
   "metadata": {},
   "outputs": [
    {
     "name": "stdout",
     "output_type": "stream",
     "text": [
      "Round 3\n",
      "Team 4 has a: 0.372 % chance and Team 5 has a: 0.628 % chance of winning\n",
      "Team 1 has a: 0.038 % chance and Team 6 has a: 0.962 % chance of winning\n",
      "Team 8 has a: 0.713 % chance and Team 7 has a: 0.287 % chance of winning\n",
      "Team 2 has a: 0.372 % chance and Team 3 has a: 0.628 % chance of winning\n"
     ]
    }
   ],
   "source": [
    "team_elo = team_elo_update(initial)\n",
    "print(\"Round 3\")\n",
    "# Team 4 v Team 5\n",
    "prob_print(4,5)\n",
    "# Team 1 v Team 6\n",
    "prob_print(1,6)\n",
    "# Team 8 v Team 7\n",
    "prob_print(8,7)\n",
    "# Team 2 v Team 3\n",
    "prob_print(2,3)"
   ]
  },
  {
   "cell_type": "markdown",
   "metadata": {},
   "source": [
    "### Post Round 2 Result Probabilities"
   ]
  },
  {
   "cell_type": "code",
   "execution_count": 28,
   "metadata": {},
   "outputs": [
    {
     "name": "stdout",
     "output_type": "stream",
     "text": [
      "Round 3\n",
      "Team 4 has a: 0.419 % chance and Team 5 has a: 0.581 % chance of winning\n",
      "Team 1 has a: 0.044 % chance and Team 6 has a: 0.956 % chance of winning\n",
      "Team 8 has a: 0.693 % chance and Team 7 has a: 0.307 % chance of winning\n",
      "Team 2 has a: 0.365 % chance and Team 3 has a: 0.635 % chance of winning\n"
     ]
    }
   ],
   "source": [
    "team_elo = team_elo_update(round3)\n",
    "print(\"Round 3\")\n",
    "# Team 4 v Team 5\n",
    "prob_print(4,5)\n",
    "# Team 1 v Team 6\n",
    "prob_print(1,6)\n",
    "# Team 8 v Team 7\n",
    "prob_print(8,7)\n",
    "# Team 2 v Team 3\n",
    "prob_print(2,3)"
   ]
  },
  {
   "cell_type": "markdown",
   "metadata": {},
   "source": [
    "## Round 3 Results"
   ]
  },
  {
   "cell_type": "code",
   "execution_count": 29,
   "metadata": {},
   "outputs": [],
   "source": [
    "# Round 4 ELO update from round 3 results\n",
    "round4 = round3.copy()\n",
    "round4 = elo_update(round4,4,5,4) # 'wrong'\n",
    "round4 = elo_update(round4,1,6,6) # 'right'\n",
    "round4 = elo_update(round4,8,7,7) # 'wrong'/'upset'\n",
    "round4 = elo_update(round4,2,3,2) # 'wrong'/'upset'"
   ]
  },
  {
   "cell_type": "markdown",
   "metadata": {},
   "source": [
    "## Round 4 Probabilites"
   ]
  },
  {
   "cell_type": "markdown",
   "metadata": {},
   "source": [
    "### Initial Probabilities"
   ]
  },
  {
   "cell_type": "code",
   "execution_count": 30,
   "metadata": {},
   "outputs": [
    {
     "name": "stdout",
     "output_type": "stream",
     "text": [
      "Round 4\n",
      "Team 7 has a: 0.954 % chance and Team 1 has a: 0.046 % chance of winning\n",
      "Team 5 has a: 0.628 % chance and Team 2 has a: 0.372 % chance of winning\n",
      "Team 6 has a: 0.925 % chance and Team 4 has a: 0.075 % chance of winning\n",
      "Team 3 has a: 0.063 % chance and Team 8 has a: 0.937 % chance of winning\n"
     ]
    }
   ],
   "source": [
    "team_elo = team_elo_update(initial)\n",
    "print(\"Round 4\")\n",
    "# Team 7 v Team 1\n",
    "prob_print(7,1)\n",
    "# Team 5 v Team 2\n",
    "prob_print(5,2)\n",
    "# Team 6 v Team 4\n",
    "prob_print(6,4)\n",
    "# Team 3 v Team 8\n",
    "prob_print(3,8)"
   ]
  },
  {
   "cell_type": "markdown",
   "metadata": {},
   "source": [
    "### Post Round 3 Probabilties"
   ]
  },
  {
   "cell_type": "code",
   "execution_count": 31,
   "metadata": {},
   "outputs": [
    {
     "name": "stdout",
     "output_type": "stream",
     "text": [
      "Round 4\n",
      "Team 7 has a: 0.971 % chance and Team 1 has a: 0.029 % chance of winning\n",
      "Team 5 has a: 0.585 % chance and Team 2 has a: 0.415 % chance of winning\n",
      "Team 6 has a: 0.877 % chance and Team 4 has a: 0.123 % chance of winning\n",
      "Team 3 has a: 0.056 % chance and Team 8 has a: 0.944 % chance of winning\n"
     ]
    }
   ],
   "source": [
    "team_elo = team_elo_update(round4)\n",
    "print(\"Round 4\")\n",
    "# Team 7 v Team 1\n",
    "prob_print(7,1)\n",
    "# Team 5 v Team 2\n",
    "prob_print(5,2)\n",
    "# Team 6 v Team 4\n",
    "prob_print(6,4)\n",
    "# Team 3 v Team 8\n",
    "prob_print(3,8)"
   ]
  },
  {
   "cell_type": "markdown",
   "metadata": {},
   "source": [
    "## Round 4 Results"
   ]
  },
  {
   "cell_type": "code",
   "execution_count": 32,
   "metadata": {},
   "outputs": [],
   "source": [
    "round5 = round4.copy()\n",
    "round5 = elo_update(round5,7,1,1) # 'wrong'/'upset'\n",
    "round5 = elo_update(round5,5,2,2) # 'wrong'\n",
    "round5 = elo_update(round5,6,4,4) # 'wrong'/'upset'\n",
    "round5 = elo_update(round5,3,8,8) # 'right'"
   ]
  },
  {
   "cell_type": "markdown",
   "metadata": {},
   "source": [
    "## Round 5 Probabilities"
   ]
  },
  {
   "cell_type": "markdown",
   "metadata": {},
   "source": [
    "### Initial Probabilities"
   ]
  },
  {
   "cell_type": "code",
   "execution_count": 33,
   "metadata": {},
   "outputs": [
    {
     "name": "stdout",
     "output_type": "stream",
     "text": [
      "Round 5\n",
      "Team 3 has a: 0.5 % chance and Team 5 has a: 0.5 % chance of winning\n",
      "Team 4 has a: 0.09 % chance and Team 7 has a: 0.91 % chance of winning\n",
      "Team 2 has a: 0.075 % chance and Team 6 has a: 0.925 % chance of winning\n",
      "Team 8 has a: 0.981 % chance and Team 1 has a: 0.019 % chance of winning\n"
     ]
    }
   ],
   "source": [
    "team_elo = team_elo_update(initial)\n",
    "print(\"Round 5\")\n",
    "# Team 3 v Team 5\n",
    "prob_print(3,5)\n",
    "# Team 4 v Team 7\n",
    "prob_print(4,7)\n",
    "# Team 2 v Team 6\n",
    "prob_print(2,6)\n",
    "# Team 8 v Team 1\n",
    "prob_print(8,1)"
   ]
  },
  {
   "cell_type": "markdown",
   "metadata": {},
   "source": [
    "### Post Round 4 Result probabilities"
   ]
  },
  {
   "cell_type": "code",
   "execution_count": 34,
   "metadata": {},
   "outputs": [
    {
     "name": "stdout",
     "output_type": "stream",
     "text": [
      "Round 5\n",
      "Team 3 has a: 0.531 % chance and Team 5 has a: 0.469 % chance of winning\n",
      "Team 4 has a: 0.129 % chance and Team 7 has a: 0.871 % chance of winning\n",
      "Team 2 has a: 0.126 % chance and Team 6 has a: 0.874 % chance of winning\n",
      "Team 8 has a: 0.978 % chance and Team 1 has a: 0.022 % chance of winning\n"
     ]
    }
   ],
   "source": [
    "team_elo = team_elo_update(round5)\n",
    "print(\"Round 5\")\n",
    "# Team 3 v Team 5\n",
    "prob_print(3,5)\n",
    "# Team 4 v Team 7\n",
    "prob_print(4,7)\n",
    "# Team 2 v Team 6\n",
    "prob_print(2,6)\n",
    "# Team 8 v Team 1\n",
    "prob_print(8,1)"
   ]
  },
  {
   "cell_type": "markdown",
   "metadata": {},
   "source": [
    "## Round 5 Results"
   ]
  },
  {
   "cell_type": "raw",
   "metadata": {},
   "source": [
    "round6 = round5.copy()\n",
    "round6 = elo_update(round6,3,5,x)\n",
    "round6 = elo_update(round6,4,7,x)\n",
    "round6 = elo_update(round6,2,6,x)\n",
    "round6 = elo_update(round6,8,1,x)"
   ]
  },
  {
   "cell_type": "markdown",
   "metadata": {},
   "source": [
    "## Round 6 Probabilities"
   ]
  },
  {
   "cell_type": "markdown",
   "metadata": {},
   "source": [
    "### Initial Probabilities"
   ]
  },
  {
   "cell_type": "raw",
   "metadata": {},
   "source": [
    "team_elo = team_elo_update(initial)\n",
    "print(\"Round 6\")\n",
    "# Team 7 v Team 2\n",
    "prob_print(7,2)\n",
    "# Team 6 v Team 3\n",
    "prob_print(6,3)\n",
    "# Team 5 v Team 8\n",
    "prob_print(5,8)\n",
    "# Team 1 v Team 4\n",
    "prob_print(1,4)"
   ]
  },
  {
   "cell_type": "markdown",
   "metadata": {},
   "source": [
    "### Post Round 5 Result probabilities"
   ]
  },
  {
   "cell_type": "raw",
   "metadata": {},
   "source": [
    "team_elo = team_elo_update(round6)\n",
    "print(\"Round 6\")\n",
    "# Team 7 v Team 2\n",
    "prob_print(7,2)\n",
    "# Team 6 v Team 3\n",
    "prob_print(6,3)\n",
    "# Team 5 v Team 8\n",
    "prob_print(5,8)\n",
    "# Team 1 v Team 4\n",
    "prob_print(1,4)"
   ]
  },
  {
   "cell_type": "markdown",
   "metadata": {},
   "source": [
    "## Round 6 Results"
   ]
  },
  {
   "cell_type": "raw",
   "metadata": {},
   "source": [
    "round7 = round6.copy()\n",
    "round7 = elo_update(round7,x,x,x)\n",
    "round7 = elo_update(round7,x,x,x)\n",
    "round7 = elo_update(round7,x,x,x)\n",
    "round7 = elo_update(round7,x,x,x)"
   ]
  },
  {
   "cell_type": "markdown",
   "metadata": {},
   "source": [
    "## Round 7 Probabilities"
   ]
  },
  {
   "cell_type": "markdown",
   "metadata": {},
   "source": [
    "### Initial Probabilities"
   ]
  },
  {
   "cell_type": "raw",
   "metadata": {},
   "source": [
    "team_elo = team_elo_update(initial)\n",
    "print(\"Round 7)\n",
    "# Team 2 v Team 1\n",
    "prob_print(2,1)\n",
    "# Team 8 v Team 4\n",
    "prob_print(8,4)\n",
    "# Team 3 v Team 7\n",
    "prob_print(3,7)\n",
    "# Team 5 v Team 6\n",
    "prob_print(5,6)"
   ]
  },
  {
   "cell_type": "markdown",
   "metadata": {},
   "source": [
    "### Post Round 6 Result probabilities"
   ]
  },
  {
   "cell_type": "raw",
   "metadata": {},
   "source": [
    "team_elo = team_elo_update(round7)\n",
    "print(\"Round 7)\n",
    "# Team 2 v Team 1\n",
    "prob_print(2,1)\n",
    "# Team 8 v Team 4\n",
    "prob_print(8,4)\n",
    "# Team 3 v Team 7\n",
    "prob_print(3,7)\n",
    "# Team 5 v Team 6\n",
    "prob_print(5,6)"
   ]
  },
  {
   "cell_type": "markdown",
   "metadata": {},
   "source": [
    "## Elo Change From Start to Current Round"
   ]
  },
  {
   "cell_type": "code",
   "execution_count": 35,
   "metadata": {},
   "outputs": [
    {
     "data": {
      "text/html": [
       "<div>\n",
       "<style scoped>\n",
       "    .dataframe tbody tr th:only-of-type {\n",
       "        vertical-align: middle;\n",
       "    }\n",
       "\n",
       "    .dataframe tbody tr th {\n",
       "        vertical-align: top;\n",
       "    }\n",
       "\n",
       "    .dataframe thead th {\n",
       "        text-align: right;\n",
       "    }\n",
       "</style>\n",
       "<table border=\"1\" class=\"dataframe\">\n",
       "  <thead>\n",
       "    <tr style=\"text-align: right;\">\n",
       "      <th></th>\n",
       "      <th>dname</th>\n",
       "      <th>delta_elo</th>\n",
       "      <th>delta_team_elo</th>\n",
       "      <th>perc_of_delta</th>\n",
       "    </tr>\n",
       "  </thead>\n",
       "  <tbody>\n",
       "    <tr>\n",
       "      <th>0</th>\n",
       "      <td>IRONKNIGHT INC</td>\n",
       "      <td>-4.480</td>\n",
       "      <td>-11.200</td>\n",
       "      <td>40.00</td>\n",
       "    </tr>\n",
       "    <tr>\n",
       "      <th>1</th>\n",
       "      <td>AussieCommander</td>\n",
       "      <td>-4.480</td>\n",
       "      <td>-11.200</td>\n",
       "      <td>40.00</td>\n",
       "    </tr>\n",
       "    <tr>\n",
       "      <th>2</th>\n",
       "      <td>SuFFa</td>\n",
       "      <td>-2.240</td>\n",
       "      <td>-11.200</td>\n",
       "      <td>20.00</td>\n",
       "    </tr>\n",
       "    <tr>\n",
       "      <th>3</th>\n",
       "      <td>Saxonj23</td>\n",
       "      <td>-10.640</td>\n",
       "      <td>-18.620</td>\n",
       "      <td>57.14</td>\n",
       "    </tr>\n",
       "    <tr>\n",
       "      <th>4</th>\n",
       "      <td>dluith</td>\n",
       "      <td>-5.320</td>\n",
       "      <td>-18.620</td>\n",
       "      <td>28.57</td>\n",
       "    </tr>\n",
       "    <tr>\n",
       "      <th>5</th>\n",
       "      <td>Kry LXXXVI</td>\n",
       "      <td>-2.660</td>\n",
       "      <td>-18.620</td>\n",
       "      <td>14.29</td>\n",
       "    </tr>\n",
       "    <tr>\n",
       "      <th>6</th>\n",
       "      <td>Capt_TT</td>\n",
       "      <td>-7.840</td>\n",
       "      <td>-13.720</td>\n",
       "      <td>57.14</td>\n",
       "    </tr>\n",
       "    <tr>\n",
       "      <th>7</th>\n",
       "      <td>Divi8882</td>\n",
       "      <td>-3.920</td>\n",
       "      <td>-13.720</td>\n",
       "      <td>28.57</td>\n",
       "    </tr>\n",
       "    <tr>\n",
       "      <th>8</th>\n",
       "      <td>taybon</td>\n",
       "      <td>-1.960</td>\n",
       "      <td>-13.720</td>\n",
       "      <td>14.29</td>\n",
       "    </tr>\n",
       "    <tr>\n",
       "      <th>9</th>\n",
       "      <td>Haydos2207</td>\n",
       "      <td>22.300</td>\n",
       "      <td>39.025</td>\n",
       "      <td>57.14</td>\n",
       "    </tr>\n",
       "    <tr>\n",
       "      <th>10</th>\n",
       "      <td>N94F</td>\n",
       "      <td>11.150</td>\n",
       "      <td>39.025</td>\n",
       "      <td>28.57</td>\n",
       "    </tr>\n",
       "    <tr>\n",
       "      <th>11</th>\n",
       "      <td>nateagain</td>\n",
       "      <td>5.575</td>\n",
       "      <td>39.025</td>\n",
       "      <td>14.29</td>\n",
       "    </tr>\n",
       "    <tr>\n",
       "      <th>12</th>\n",
       "      <td>Chef Traine</td>\n",
       "      <td>1.640</td>\n",
       "      <td>4.510</td>\n",
       "      <td>36.36</td>\n",
       "    </tr>\n",
       "    <tr>\n",
       "      <th>13</th>\n",
       "      <td>Cactxs</td>\n",
       "      <td>1.640</td>\n",
       "      <td>4.510</td>\n",
       "      <td>36.36</td>\n",
       "    </tr>\n",
       "    <tr>\n",
       "      <th>14</th>\n",
       "      <td>Shadow_Fang_1993</td>\n",
       "      <td>1.230</td>\n",
       "      <td>4.510</td>\n",
       "      <td>27.27</td>\n",
       "    </tr>\n",
       "    <tr>\n",
       "      <th>15</th>\n",
       "      <td>niyo_net</td>\n",
       "      <td>-16.980</td>\n",
       "      <td>-38.205</td>\n",
       "      <td>44.44</td>\n",
       "    </tr>\n",
       "    <tr>\n",
       "      <th>16</th>\n",
       "      <td>merro84</td>\n",
       "      <td>-4.245</td>\n",
       "      <td>-38.205</td>\n",
       "      <td>11.11</td>\n",
       "    </tr>\n",
       "    <tr>\n",
       "      <th>17</th>\n",
       "      <td>FadedFaux</td>\n",
       "      <td>-16.980</td>\n",
       "      <td>-38.205</td>\n",
       "      <td>44.44</td>\n",
       "    </tr>\n",
       "    <tr>\n",
       "      <th>18</th>\n",
       "      <td>Hammy-56</td>\n",
       "      <td>13.240</td>\n",
       "      <td>33.100</td>\n",
       "      <td>40.00</td>\n",
       "    </tr>\n",
       "    <tr>\n",
       "      <th>19</th>\n",
       "      <td>Puscifer85</td>\n",
       "      <td>6.620</td>\n",
       "      <td>33.100</td>\n",
       "      <td>20.00</td>\n",
       "    </tr>\n",
       "    <tr>\n",
       "      <th>20</th>\n",
       "      <td>StayBloodThrsty</td>\n",
       "      <td>13.240</td>\n",
       "      <td>33.100</td>\n",
       "      <td>40.00</td>\n",
       "    </tr>\n",
       "    <tr>\n",
       "      <th>21</th>\n",
       "      <td>Tata and farewell!</td>\n",
       "      <td>7.240</td>\n",
       "      <td>16.290</td>\n",
       "      <td>44.44</td>\n",
       "    </tr>\n",
       "    <tr>\n",
       "      <th>22</th>\n",
       "      <td>Cube9215</td>\n",
       "      <td>7.240</td>\n",
       "      <td>16.290</td>\n",
       "      <td>44.44</td>\n",
       "    </tr>\n",
       "    <tr>\n",
       "      <th>23</th>\n",
       "      <td>ollioxenhomefree</td>\n",
       "      <td>1.810</td>\n",
       "      <td>16.290</td>\n",
       "      <td>11.11</td>\n",
       "    </tr>\n",
       "  </tbody>\n",
       "</table>\n",
       "</div>"
      ],
      "text/plain": [
       "                 dname  delta_elo  delta_team_elo  perc_of_delta\n",
       "0       IRONKNIGHT INC     -4.480         -11.200          40.00\n",
       "1      AussieCommander     -4.480         -11.200          40.00\n",
       "2                SuFFa     -2.240         -11.200          20.00\n",
       "3             Saxonj23    -10.640         -18.620          57.14\n",
       "4               dluith     -5.320         -18.620          28.57\n",
       "5           Kry LXXXVI     -2.660         -18.620          14.29\n",
       "6              Capt_TT     -7.840         -13.720          57.14\n",
       "7             Divi8882     -3.920         -13.720          28.57\n",
       "8               taybon     -1.960         -13.720          14.29\n",
       "9           Haydos2207     22.300          39.025          57.14\n",
       "10                N94F     11.150          39.025          28.57\n",
       "11           nateagain      5.575          39.025          14.29\n",
       "12         Chef Traine      1.640           4.510          36.36\n",
       "13              Cactxs      1.640           4.510          36.36\n",
       "14    Shadow_Fang_1993      1.230           4.510          27.27\n",
       "15            niyo_net    -16.980         -38.205          44.44\n",
       "16             merro84     -4.245         -38.205          11.11\n",
       "17           FadedFaux    -16.980         -38.205          44.44\n",
       "18            Hammy-56     13.240          33.100          40.00\n",
       "19          Puscifer85      6.620          33.100          20.00\n",
       "20     StayBloodThrsty     13.240          33.100          40.00\n",
       "21  Tata and farewell!      7.240          16.290          44.44\n",
       "22            Cube9215      7.240          16.290          44.44\n",
       "23    ollioxenhomefree      1.810          16.290          11.11"
      ]
     },
     "execution_count": 35,
     "metadata": {},
     "output_type": "execute_result"
    }
   ],
   "source": [
    "delta_elo = (pd.DataFrame(round3.elo - df.elo)\n",
    "               .rename({'elo':'delta_elo'}\n",
    "                       ,axis=1))\n",
    "delta_team_elo = (pd.DataFrame(round3.team_elo - df.team_elo)\n",
    "                    .rename({'team_elo':'delta_team_elo'}\n",
    "                            ,axis=1))\n",
    "change = pd.DataFrame(df.dname).join(delta_elo).join(delta_team_elo)\n",
    "change['perc_of_delta'] =  ((change.delta_elo/change.delta_team_elo)*100).round(2)\n",
    "change.head(24)"
   ]
  },
  {
   "cell_type": "markdown",
   "metadata": {},
   "source": [
    "# Future Possible Team Balancing"
   ]
  },
  {
   "cell_type": "code",
   "execution_count": 36,
   "metadata": {},
   "outputs": [
    {
     "name": "stdout",
     "output_type": "stream",
     "text": [
      "312.2916666666667 average player ELO\n",
      "936.875 average team ELO\n"
     ]
    }
   ],
   "source": [
    "# Player average ELO\n",
    "print(df.elo.mean(), \"average player ELO\")\n",
    "\n",
    "# Average Team ELO based on average player elo\n",
    "print(df.elo.mean() * 3, \"average team ELO\")"
   ]
  },
  {
   "cell_type": "code",
   "execution_count": 37,
   "metadata": {},
   "outputs": [],
   "source": [
    "# Players (3) ELO combined should be as closed to possible to Mean Player ELO * Team Size"
   ]
  }
 ],
 "metadata": {
  "kernelspec": {
   "display_name": "Python 3",
   "language": "python",
   "name": "python3"
  },
  "language_info": {
   "codemirror_mode": {
    "name": "ipython",
    "version": 3
   },
   "file_extension": ".py",
   "mimetype": "text/x-python",
   "name": "python",
   "nbconvert_exporter": "python",
   "pygments_lexer": "ipython3",
   "version": "3.8.5"
  }
 },
 "nbformat": 4,
 "nbformat_minor": 4
}
